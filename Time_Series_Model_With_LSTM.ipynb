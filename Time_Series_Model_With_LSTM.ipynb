{
  "nbformat": 4,
  "nbformat_minor": 0,
  "metadata": {
    "colab": {
      "provenance": []
    },
    "kernelspec": {
      "name": "python3",
      "display_name": "Python 3"
    },
    "language_info": {
      "name": "python"
    }
  },
  "cells": [
    {
      "cell_type": "code",
      "execution_count": null,
      "metadata": {
        "id": "LTkOpFtFgSr7"
      },
      "outputs": [],
      "source": [
        "import numpy as np\n",
        "import pandas as pd\n",
        "from keras.layers import Dense, LSTM\n",
        "import matplotlib.pyplot as plt\n",
        "import tensorflow as tf\n",
        "from sklearn.preprocessing import MinMaxScaler\n",
        "from sklearn.model_selection import train_test_split"
      ]
    },
    {
      "cell_type": "code",
      "source": [
        "data = pd.read_csv('COCO COLA.csv')\n",
        "data.head()"
      ],
      "metadata": {
        "colab": {
          "base_uri": "https://localhost:8080/",
          "height": 206
        },
        "id": "zujubi34gm0V",
        "outputId": "e9e50b0b-5c10-44a4-bf4a-3cac2510db91"
      },
      "execution_count": null,
      "outputs": [
        {
          "output_type": "execute_result",
          "data": {
            "text/plain": [
              "         Date      Open      High       Low     Close  Adj Close   Volume\n",
              "0  1962-01-02  0.263021  0.270182  0.263021  0.263021   0.051133   806400\n",
              "1  1962-01-03  0.259115  0.259115  0.253255  0.257161   0.049994  1574400\n",
              "2  1962-01-04  0.257813  0.261068  0.257813  0.259115   0.050374   844800\n",
              "3  1962-01-05  0.259115  0.262370  0.252604  0.253255   0.049234  1420800\n",
              "4  1962-01-08  0.251302  0.251302  0.245768  0.250651   0.048728  2035200"
            ],
            "text/html": [
              "\n",
              "  <div id=\"df-c05a9455-e7fe-4954-a2ef-f4d552e1077c\" class=\"colab-df-container\">\n",
              "    <div>\n",
              "<style scoped>\n",
              "    .dataframe tbody tr th:only-of-type {\n",
              "        vertical-align: middle;\n",
              "    }\n",
              "\n",
              "    .dataframe tbody tr th {\n",
              "        vertical-align: top;\n",
              "    }\n",
              "\n",
              "    .dataframe thead th {\n",
              "        text-align: right;\n",
              "    }\n",
              "</style>\n",
              "<table border=\"1\" class=\"dataframe\">\n",
              "  <thead>\n",
              "    <tr style=\"text-align: right;\">\n",
              "      <th></th>\n",
              "      <th>Date</th>\n",
              "      <th>Open</th>\n",
              "      <th>High</th>\n",
              "      <th>Low</th>\n",
              "      <th>Close</th>\n",
              "      <th>Adj Close</th>\n",
              "      <th>Volume</th>\n",
              "    </tr>\n",
              "  </thead>\n",
              "  <tbody>\n",
              "    <tr>\n",
              "      <th>0</th>\n",
              "      <td>1962-01-02</td>\n",
              "      <td>0.263021</td>\n",
              "      <td>0.270182</td>\n",
              "      <td>0.263021</td>\n",
              "      <td>0.263021</td>\n",
              "      <td>0.051133</td>\n",
              "      <td>806400</td>\n",
              "    </tr>\n",
              "    <tr>\n",
              "      <th>1</th>\n",
              "      <td>1962-01-03</td>\n",
              "      <td>0.259115</td>\n",
              "      <td>0.259115</td>\n",
              "      <td>0.253255</td>\n",
              "      <td>0.257161</td>\n",
              "      <td>0.049994</td>\n",
              "      <td>1574400</td>\n",
              "    </tr>\n",
              "    <tr>\n",
              "      <th>2</th>\n",
              "      <td>1962-01-04</td>\n",
              "      <td>0.257813</td>\n",
              "      <td>0.261068</td>\n",
              "      <td>0.257813</td>\n",
              "      <td>0.259115</td>\n",
              "      <td>0.050374</td>\n",
              "      <td>844800</td>\n",
              "    </tr>\n",
              "    <tr>\n",
              "      <th>3</th>\n",
              "      <td>1962-01-05</td>\n",
              "      <td>0.259115</td>\n",
              "      <td>0.262370</td>\n",
              "      <td>0.252604</td>\n",
              "      <td>0.253255</td>\n",
              "      <td>0.049234</td>\n",
              "      <td>1420800</td>\n",
              "    </tr>\n",
              "    <tr>\n",
              "      <th>4</th>\n",
              "      <td>1962-01-08</td>\n",
              "      <td>0.251302</td>\n",
              "      <td>0.251302</td>\n",
              "      <td>0.245768</td>\n",
              "      <td>0.250651</td>\n",
              "      <td>0.048728</td>\n",
              "      <td>2035200</td>\n",
              "    </tr>\n",
              "  </tbody>\n",
              "</table>\n",
              "</div>\n",
              "    <div class=\"colab-df-buttons\">\n",
              "\n",
              "  <div class=\"colab-df-container\">\n",
              "    <button class=\"colab-df-convert\" onclick=\"convertToInteractive('df-c05a9455-e7fe-4954-a2ef-f4d552e1077c')\"\n",
              "            title=\"Convert this dataframe to an interactive table.\"\n",
              "            style=\"display:none;\">\n",
              "\n",
              "  <svg xmlns=\"http://www.w3.org/2000/svg\" height=\"24px\" viewBox=\"0 -960 960 960\">\n",
              "    <path d=\"M120-120v-720h720v720H120Zm60-500h600v-160H180v160Zm220 220h160v-160H400v160Zm0 220h160v-160H400v160ZM180-400h160v-160H180v160Zm440 0h160v-160H620v160ZM180-180h160v-160H180v160Zm440 0h160v-160H620v160Z\"/>\n",
              "  </svg>\n",
              "    </button>\n",
              "\n",
              "  <style>\n",
              "    .colab-df-container {\n",
              "      display:flex;\n",
              "      gap: 12px;\n",
              "    }\n",
              "\n",
              "    .colab-df-convert {\n",
              "      background-color: #E8F0FE;\n",
              "      border: none;\n",
              "      border-radius: 50%;\n",
              "      cursor: pointer;\n",
              "      display: none;\n",
              "      fill: #1967D2;\n",
              "      height: 32px;\n",
              "      padding: 0 0 0 0;\n",
              "      width: 32px;\n",
              "    }\n",
              "\n",
              "    .colab-df-convert:hover {\n",
              "      background-color: #E2EBFA;\n",
              "      box-shadow: 0px 1px 2px rgba(60, 64, 67, 0.3), 0px 1px 3px 1px rgba(60, 64, 67, 0.15);\n",
              "      fill: #174EA6;\n",
              "    }\n",
              "\n",
              "    .colab-df-buttons div {\n",
              "      margin-bottom: 4px;\n",
              "    }\n",
              "\n",
              "    [theme=dark] .colab-df-convert {\n",
              "      background-color: #3B4455;\n",
              "      fill: #D2E3FC;\n",
              "    }\n",
              "\n",
              "    [theme=dark] .colab-df-convert:hover {\n",
              "      background-color: #434B5C;\n",
              "      box-shadow: 0px 1px 3px 1px rgba(0, 0, 0, 0.15);\n",
              "      filter: drop-shadow(0px 1px 2px rgba(0, 0, 0, 0.3));\n",
              "      fill: #FFFFFF;\n",
              "    }\n",
              "  </style>\n",
              "\n",
              "    <script>\n",
              "      const buttonEl =\n",
              "        document.querySelector('#df-c05a9455-e7fe-4954-a2ef-f4d552e1077c button.colab-df-convert');\n",
              "      buttonEl.style.display =\n",
              "        google.colab.kernel.accessAllowed ? 'block' : 'none';\n",
              "\n",
              "      async function convertToInteractive(key) {\n",
              "        const element = document.querySelector('#df-c05a9455-e7fe-4954-a2ef-f4d552e1077c');\n",
              "        const dataTable =\n",
              "          await google.colab.kernel.invokeFunction('convertToInteractive',\n",
              "                                                    [key], {});\n",
              "        if (!dataTable) return;\n",
              "\n",
              "        const docLinkHtml = 'Like what you see? Visit the ' +\n",
              "          '<a target=\"_blank\" href=https://colab.research.google.com/notebooks/data_table.ipynb>data table notebook</a>'\n",
              "          + ' to learn more about interactive tables.';\n",
              "        element.innerHTML = '';\n",
              "        dataTable['output_type'] = 'display_data';\n",
              "        await google.colab.output.renderOutput(dataTable, element);\n",
              "        const docLink = document.createElement('div');\n",
              "        docLink.innerHTML = docLinkHtml;\n",
              "        element.appendChild(docLink);\n",
              "      }\n",
              "    </script>\n",
              "  </div>\n",
              "\n",
              "\n",
              "<div id=\"df-ac2ebbb2-b293-40eb-9a15-25fbab1d55a7\">\n",
              "  <button class=\"colab-df-quickchart\" onclick=\"quickchart('df-ac2ebbb2-b293-40eb-9a15-25fbab1d55a7')\"\n",
              "            title=\"Suggest charts\"\n",
              "            style=\"display:none;\">\n",
              "\n",
              "<svg xmlns=\"http://www.w3.org/2000/svg\" height=\"24px\"viewBox=\"0 0 24 24\"\n",
              "     width=\"24px\">\n",
              "    <g>\n",
              "        <path d=\"M19 3H5c-1.1 0-2 .9-2 2v14c0 1.1.9 2 2 2h14c1.1 0 2-.9 2-2V5c0-1.1-.9-2-2-2zM9 17H7v-7h2v7zm4 0h-2V7h2v10zm4 0h-2v-4h2v4z\"/>\n",
              "    </g>\n",
              "</svg>\n",
              "  </button>\n",
              "\n",
              "<style>\n",
              "  .colab-df-quickchart {\n",
              "      --bg-color: #E8F0FE;\n",
              "      --fill-color: #1967D2;\n",
              "      --hover-bg-color: #E2EBFA;\n",
              "      --hover-fill-color: #174EA6;\n",
              "      --disabled-fill-color: #AAA;\n",
              "      --disabled-bg-color: #DDD;\n",
              "  }\n",
              "\n",
              "  [theme=dark] .colab-df-quickchart {\n",
              "      --bg-color: #3B4455;\n",
              "      --fill-color: #D2E3FC;\n",
              "      --hover-bg-color: #434B5C;\n",
              "      --hover-fill-color: #FFFFFF;\n",
              "      --disabled-bg-color: #3B4455;\n",
              "      --disabled-fill-color: #666;\n",
              "  }\n",
              "\n",
              "  .colab-df-quickchart {\n",
              "    background-color: var(--bg-color);\n",
              "    border: none;\n",
              "    border-radius: 50%;\n",
              "    cursor: pointer;\n",
              "    display: none;\n",
              "    fill: var(--fill-color);\n",
              "    height: 32px;\n",
              "    padding: 0;\n",
              "    width: 32px;\n",
              "  }\n",
              "\n",
              "  .colab-df-quickchart:hover {\n",
              "    background-color: var(--hover-bg-color);\n",
              "    box-shadow: 0 1px 2px rgba(60, 64, 67, 0.3), 0 1px 3px 1px rgba(60, 64, 67, 0.15);\n",
              "    fill: var(--button-hover-fill-color);\n",
              "  }\n",
              "\n",
              "  .colab-df-quickchart-complete:disabled,\n",
              "  .colab-df-quickchart-complete:disabled:hover {\n",
              "    background-color: var(--disabled-bg-color);\n",
              "    fill: var(--disabled-fill-color);\n",
              "    box-shadow: none;\n",
              "  }\n",
              "\n",
              "  .colab-df-spinner {\n",
              "    border: 2px solid var(--fill-color);\n",
              "    border-color: transparent;\n",
              "    border-bottom-color: var(--fill-color);\n",
              "    animation:\n",
              "      spin 1s steps(1) infinite;\n",
              "  }\n",
              "\n",
              "  @keyframes spin {\n",
              "    0% {\n",
              "      border-color: transparent;\n",
              "      border-bottom-color: var(--fill-color);\n",
              "      border-left-color: var(--fill-color);\n",
              "    }\n",
              "    20% {\n",
              "      border-color: transparent;\n",
              "      border-left-color: var(--fill-color);\n",
              "      border-top-color: var(--fill-color);\n",
              "    }\n",
              "    30% {\n",
              "      border-color: transparent;\n",
              "      border-left-color: var(--fill-color);\n",
              "      border-top-color: var(--fill-color);\n",
              "      border-right-color: var(--fill-color);\n",
              "    }\n",
              "    40% {\n",
              "      border-color: transparent;\n",
              "      border-right-color: var(--fill-color);\n",
              "      border-top-color: var(--fill-color);\n",
              "    }\n",
              "    60% {\n",
              "      border-color: transparent;\n",
              "      border-right-color: var(--fill-color);\n",
              "    }\n",
              "    80% {\n",
              "      border-color: transparent;\n",
              "      border-right-color: var(--fill-color);\n",
              "      border-bottom-color: var(--fill-color);\n",
              "    }\n",
              "    90% {\n",
              "      border-color: transparent;\n",
              "      border-bottom-color: var(--fill-color);\n",
              "    }\n",
              "  }\n",
              "</style>\n",
              "\n",
              "  <script>\n",
              "    async function quickchart(key) {\n",
              "      const quickchartButtonEl =\n",
              "        document.querySelector('#' + key + ' button');\n",
              "      quickchartButtonEl.disabled = true;  // To prevent multiple clicks.\n",
              "      quickchartButtonEl.classList.add('colab-df-spinner');\n",
              "      try {\n",
              "        const charts = await google.colab.kernel.invokeFunction(\n",
              "            'suggestCharts', [key], {});\n",
              "      } catch (error) {\n",
              "        console.error('Error during call to suggestCharts:', error);\n",
              "      }\n",
              "      quickchartButtonEl.classList.remove('colab-df-spinner');\n",
              "      quickchartButtonEl.classList.add('colab-df-quickchart-complete');\n",
              "    }\n",
              "    (() => {\n",
              "      let quickchartButtonEl =\n",
              "        document.querySelector('#df-ac2ebbb2-b293-40eb-9a15-25fbab1d55a7 button');\n",
              "      quickchartButtonEl.style.display =\n",
              "        google.colab.kernel.accessAllowed ? 'block' : 'none';\n",
              "    })();\n",
              "  </script>\n",
              "</div>\n",
              "\n",
              "    </div>\n",
              "  </div>\n"
            ],
            "application/vnd.google.colaboratory.intrinsic+json": {
              "type": "dataframe",
              "variable_name": "data",
              "summary": "{\n  \"name\": \"data\",\n  \"rows\": 15096,\n  \"fields\": [\n    {\n      \"column\": \"Date\",\n      \"properties\": {\n        \"dtype\": \"object\",\n        \"num_unique_values\": 15096,\n        \"samples\": [\n          \"1976-09-30\",\n          \"1992-12-03\",\n          \"1993-06-04\"\n        ],\n        \"semantic_type\": \"\",\n        \"description\": \"\"\n      }\n    },\n    {\n      \"column\": \"Open\",\n      \"properties\": {\n        \"dtype\": \"number\",\n        \"std\": 16.939300604829125,\n        \"min\": 0.192708,\n        \"max\": 59.810001,\n        \"num_unique_values\": 5261,\n        \"samples\": [\n          40.8125,\n          37.865002,\n          40.380001\n        ],\n        \"semantic_type\": \"\",\n        \"description\": \"\"\n      }\n    },\n    {\n      \"column\": \"High\",\n      \"properties\": {\n        \"dtype\": \"number\",\n        \"std\": 17.064336459755314,\n        \"min\": 0.193359,\n        \"max\": 60.130001,\n        \"num_unique_values\": 5309,\n        \"samples\": [\n          57.869999,\n          1.221354,\n          26.68\n        ],\n        \"semantic_type\": \"\",\n        \"description\": \"\"\n      }\n    },\n    {\n      \"column\": \"Low\",\n      \"properties\": {\n        \"dtype\": \"number\",\n        \"std\": 16.811753432864894,\n        \"min\": 0.182292,\n        \"max\": 59.619999,\n        \"num_unique_values\": 5249,\n        \"samples\": [\n          4.140625,\n          25.379999,\n          28.700001\n        ],\n        \"semantic_type\": \"\",\n        \"description\": \"\"\n      }\n    },\n    {\n      \"column\": \"Close\",\n      \"properties\": {\n        \"dtype\": \"number\",\n        \"std\": 16.941712497308732,\n        \"min\": 0.192057,\n        \"max\": 60.130001,\n        \"num_unique_values\": 5412,\n        \"samples\": [\n          0.372396,\n          10.015625,\n          22.825001\n        ],\n        \"semantic_type\": \"\",\n        \"description\": \"\"\n      }\n    },\n    {\n      \"column\": \"Adj Close\",\n      \"properties\": {\n        \"dtype\": \"number\",\n        \"std\": 14.253637421862477,\n        \"min\": 0.037855,\n        \"max\": 58.650002,\n        \"num_unique_values\": 10893,\n        \"samples\": [\n          1.014535,\n          0.348216,\n          16.418135\n        ],\n        \"semantic_type\": \"\",\n        \"description\": \"\"\n      }\n    },\n    {\n      \"column\": \"Volume\",\n      \"properties\": {\n        \"dtype\": \"number\",\n        \"std\": 7935744,\n        \"min\": 76800,\n        \"max\": 124169000,\n        \"num_unique_values\": 10188,\n        \"samples\": [\n          4229600,\n          11534600,\n          3971400\n        ],\n        \"semantic_type\": \"\",\n        \"description\": \"\"\n      }\n    }\n  ]\n}"
            }
          },
          "metadata": {},
          "execution_count": 3
        }
      ]
    },
    {
      "cell_type": "code",
      "source": [
        "data.info()"
      ],
      "metadata": {
        "colab": {
          "base_uri": "https://localhost:8080/"
        },
        "id": "XG58SL6zgx44",
        "outputId": "9745c3dc-c27a-4779-f90b-61a664d48d4c"
      },
      "execution_count": null,
      "outputs": [
        {
          "output_type": "stream",
          "name": "stdout",
          "text": [
            "<class 'pandas.core.frame.DataFrame'>\n",
            "RangeIndex: 15096 entries, 0 to 15095\n",
            "Data columns (total 7 columns):\n",
            " #   Column     Non-Null Count  Dtype  \n",
            "---  ------     --------------  -----  \n",
            " 0   Date       15096 non-null  object \n",
            " 1   Open       15096 non-null  float64\n",
            " 2   High       15096 non-null  float64\n",
            " 3   Low        15096 non-null  float64\n",
            " 4   Close      15096 non-null  float64\n",
            " 5   Adj Close  15096 non-null  float64\n",
            " 6   Volume     15096 non-null  int64  \n",
            "dtypes: float64(5), int64(1), object(1)\n",
            "memory usage: 825.7+ KB\n"
          ]
        }
      ]
    },
    {
      "cell_type": "code",
      "source": [
        "data.isnull().sum()"
      ],
      "metadata": {
        "colab": {
          "base_uri": "https://localhost:8080/"
        },
        "id": "5mJm9Qhlg2fO",
        "outputId": "f4bd7773-da41-4fd8-eba6-533ca4eac116"
      },
      "execution_count": null,
      "outputs": [
        {
          "output_type": "execute_result",
          "data": {
            "text/plain": [
              "Date         0\n",
              "Open         0\n",
              "High         0\n",
              "Low          0\n",
              "Close        0\n",
              "Adj Close    0\n",
              "Volume       0\n",
              "dtype: int64"
            ]
          },
          "metadata": {},
          "execution_count": 7
        }
      ]
    },
    {
      "cell_type": "code",
      "source": [
        "date = data['Date'].values\n",
        "price = data['Close'].values"
      ],
      "metadata": {
        "id": "nCVmpUJvQA9F"
      },
      "execution_count": 9,
      "outputs": []
    },
    {
      "cell_type": "code",
      "source": [
        "plt.figure(figsize=(20,8))\n",
        "plt.plot(date, price)\n",
        "plt.title('Coca Cola Stock Price (1962 - 2021)')\n",
        "plt.xlabel('Date')\n",
        "plt.ylabel('Price')\n",
        "plt.show()"
      ],
      "metadata": {
        "colab": {
          "base_uri": "https://localhost:8080/",
          "height": 500
        },
        "id": "ENnT-aKLg5CO",
        "outputId": "4ffdddcb-1cfc-42fa-8e88-d000ea7d48fc"
      },
      "execution_count": 10,
      "outputs": [
        {
          "output_type": "display_data",
          "data": {
            "text/plain": [
              "<Figure size 2000x800 with 1 Axes>"
            ],
            "image/png": "[encoded data removed]"
          },
          "metadata": {}
        }
      ]
    },
    {
      "cell_type": "code",
      "source": [
        "scaler = MinMaxScaler()\n",
        "price_scaled = scaler.fit_transform(price.reshape(-1, 1)).flatten()"
      ],
      "metadata": {
        "id": "qI2QDhewQ14c"
      },
      "execution_count": 15,
      "outputs": []
    },
    {
      "cell_type": "code",
      "source": [
        "threshold = (price.max() - price.min()) * 10 / 100\n",
        "print('Threshold MAE:', threshold)"
      ],
      "metadata": {
        "colab": {
          "base_uri": "https://localhost:8080/"
        },
        "id": "yasv-XXnQ3H4",
        "outputId": "b1c6bf80-79c1-4066-9ecf-26b1d712bfaf"
      },
      "execution_count": 16,
      "outputs": [
        {
          "output_type": "stream",
          "name": "stdout",
          "text": [
            "Threshold MAE: 5.9937944000000005\n"
          ]
        }
      ]
    },
    {
      "cell_type": "code",
      "source": [
        "x_train, x_test, y_train, y_test = train_test_split(price, date, test_size = 0.2)"
      ],
      "metadata": {
        "id": "i1XqJIeghr2O"
      },
      "execution_count": 17,
      "outputs": []
    },
    {
      "cell_type": "code",
      "source": [
        "def windowed_dataset(series, window_size, batch_size, shuffle_buffer):\n",
        "  series = tf.expand_dims(series, axis=-1)\n",
        "  data_series = tf.data.Dataset.from_tensor_slices(series)\n",
        "  data_series = data_series.window(window_size + 1, shift=1, drop_remainder = True)\n",
        "  data_series = data_series.flat_map(lambda w: w.batch(window_size + 1))\n",
        "  data_series = data_series.shuffle(shuffle_buffer)\n",
        "  data_series = data_series.map(lambda w: (w[:-1], w[-1:]))\n",
        "  return data_series.batch(batch_size).prefetch(1)"
      ],
      "metadata": {
        "id": "rjZyILlTiL5d"
      },
      "execution_count": 18,
      "outputs": []
    },
    {
      "cell_type": "code",
      "source": [
        "data_training = windowed_dataset(x_train, window_size=64, batch_size=128, shuffle_buffer=1000)\n",
        "data_testing = windowed_dataset(x_test, window_size=64, batch_size=128, shuffle_buffer=1000)"
      ],
      "metadata": {
        "id": "P-qPhxp3iRpd"
      },
      "execution_count": 19,
      "outputs": []
    },
    {
      "cell_type": "code",
      "source": [
        "model = tf.keras.models.Sequential([\n",
        "  tf.keras.layers.LSTM(64, return_sequences=True),\n",
        "  tf.keras.layers.LSTM(64),\n",
        "  tf.keras.layers.Dense(30, activation=\"relu\"),\n",
        "  tf.keras.layers.Dropout(0.5),\n",
        "  tf.keras.layers.Dense(10, activation=\"relu\"),\n",
        "  tf.keras.layers.Dropout(0.5),\n",
        "  tf.keras.layers.Dense(1),\n",
        "])"
      ],
      "metadata": {
        "id": "mH44X2G4iUB_"
      },
      "execution_count": 20,
      "outputs": []
    },
    {
      "cell_type": "code",
      "source": [
        "optimizers = tf.keras.optimizers.SGD(learning_rate=1.0000e-04, momentum=0.9)\n",
        "model.compile(loss=tf.keras.losses.Huber(),\n",
        "              optimizer=optimizers,\n",
        "              metrics=[\"mae\"])"
      ],
      "metadata": {
        "id": "Iw5m51l7REhx"
      },
      "execution_count": 21,
      "outputs": []
    },
    {
      "cell_type": "code",
      "source": [
        "class EarlyStoppingByMAE(tf.keras.callbacks.Callback):\n",
        "    def on_epoch_end(self, epoch, logs=None):\n",
        "        if logs.get('mae') < threshold and logs.get('val_mae') < threshold:\n",
        "            print(\"MAE and Val_MAE below threshold, stopping training\")\n",
        "            self.model.stop_training = True\n",
        "\n",
        "callbacks = [EarlyStoppingByMAE()]"
      ],
      "metadata": {
        "id": "QSuMPuasRFfh"
      },
      "execution_count": 22,
      "outputs": []
    },
    {
      "cell_type": "code",
      "source": [
        "model_history = model.fit(\n",
        "    data_training,\n",
        "    epochs=50,\n",
        "    validation_data=data_testing,\n",
        "    callbacks=callbacks\n",
        ")"
      ],
      "metadata": {
        "colab": {
          "base_uri": "https://localhost:8080/"
        },
        "id": "ZapnbmWhiYOV",
        "outputId": "a298c7ba-b04c-4912-e514-f383c14cc0f0"
      },
      "execution_count": 23,
      "outputs": [
        {
          "output_type": "stream",
          "name": "stdout",
          "text": [
            "Epoch 1/50\n",
            "94/94 [==============================] - 29s 261ms/step - loss: 15.2636 - mae: 15.7047 - val_loss: 15.3951 - val_mae: 15.8013\n",
            "Epoch 2/50\n",
            "94/94 [==============================] - 22s 228ms/step - loss: 15.0296 - mae: 15.4700 - val_loss: 15.1323 - val_mae: 15.5401\n",
            "Epoch 3/50\n",
            "94/94 [==============================] - 23s 244ms/step - loss: 14.8706 - mae: 15.3230 - val_loss: 14.9644 - val_mae: 15.4083\n",
            "Epoch 4/50\n",
            "94/94 [==============================] - 23s 239ms/step - loss: 14.7728 - mae: 15.2297 - val_loss: 14.8505 - val_mae: 15.3247\n",
            "Epoch 5/50\n",
            "94/94 [==============================] - 23s 244ms/step - loss: 14.6681 - mae: 15.1298 - val_loss: 14.7648 - val_mae: 15.2506\n",
            "Epoch 6/50\n",
            "94/94 [==============================] - 20s 209ms/step - loss: 14.6247 - mae: 15.0901 - val_loss: 14.6965 - val_mae: 15.1820\n",
            "Epoch 7/50\n",
            "94/94 [==============================] - 22s 230ms/step - loss: 14.5724 - mae: 15.0377 - val_loss: 14.6360 - val_mae: 15.1220\n",
            "Epoch 8/50\n",
            "94/94 [==============================] - 20s 209ms/step - loss: 14.5308 - mae: 14.9980 - val_loss: 14.5887 - val_mae: 15.0786\n",
            "Epoch 9/50\n",
            "94/94 [==============================] - 21s 220ms/step - loss: 14.4871 - mae: 14.9574 - val_loss: 14.5469 - val_mae: 15.0412\n",
            "Epoch 10/50\n",
            "94/94 [==============================] - 20s 213ms/step - loss: 14.4572 - mae: 14.9292 - val_loss: 14.5100 - val_mae: 15.0069\n",
            "Epoch 11/50\n",
            "94/94 [==============================] - 22s 225ms/step - loss: 14.4292 - mae: 14.9021 - val_loss: 14.4816 - val_mae: 14.9788\n",
            "Epoch 12/50\n",
            "94/94 [==============================] - 20s 215ms/step - loss: 14.4372 - mae: 14.9118 - val_loss: 14.4582 - val_mae: 14.9546\n",
            "Epoch 13/50\n",
            "94/94 [==============================] - 21s 219ms/step - loss: 14.4153 - mae: 14.8920 - val_loss: 14.4389 - val_mae: 14.9346\n",
            "Epoch 14/50\n",
            "94/94 [==============================] - 21s 215ms/step - loss: 14.3566 - mae: 14.8338 - val_loss: 14.4156 - val_mae: 14.9108\n",
            "Epoch 15/50\n",
            "94/94 [==============================] - 20s 207ms/step - loss: 14.3890 - mae: 14.8685 - val_loss: 14.4038 - val_mae: 14.8990\n",
            "Epoch 16/50\n",
            "94/94 [==============================] - 20s 211ms/step - loss: 14.3321 - mae: 14.8127 - val_loss: 14.3856 - val_mae: 14.8812\n",
            "Epoch 17/50\n",
            "94/94 [==============================] - 22s 237ms/step - loss: 14.3450 - mae: 14.8260 - val_loss: 14.3757 - val_mae: 14.8714\n",
            "Epoch 18/50\n",
            "94/94 [==============================] - 21s 222ms/step - loss: 14.3353 - mae: 14.8183 - val_loss: 14.3646 - val_mae: 14.8606\n",
            "Epoch 19/50\n",
            "94/94 [==============================] - 21s 218ms/step - loss: 14.3347 - mae: 14.8167 - val_loss: 14.3586 - val_mae: 14.8547\n",
            "Epoch 20/50\n",
            "94/94 [==============================] - 21s 225ms/step - loss: 14.3560 - mae: 14.8395 - val_loss: 14.3559 - val_mae: 14.8521\n",
            "Epoch 21/50\n",
            "94/94 [==============================] - 21s 218ms/step - loss: 14.2955 - mae: 14.7776 - val_loss: 14.3505 - val_mae: 14.8466\n",
            "Epoch 22/50\n",
            "94/94 [==============================] - 21s 216ms/step - loss: 14.3225 - mae: 14.8052 - val_loss: 14.3455 - val_mae: 14.8416\n",
            "Epoch 23/50\n",
            "94/94 [==============================] - 20s 211ms/step - loss: 14.3325 - mae: 14.8173 - val_loss: 14.3440 - val_mae: 14.8402\n",
            "Epoch 24/50\n",
            "94/94 [==============================] - 21s 219ms/step - loss: 14.3323 - mae: 14.8167 - val_loss: 14.3429 - val_mae: 14.8391\n",
            "Epoch 25/50\n",
            "94/94 [==============================] - 20s 210ms/step - loss: 14.3316 - mae: 14.8165 - val_loss: 14.3418 - val_mae: 14.8380\n",
            "Epoch 26/50\n",
            "94/94 [==============================] - 20s 210ms/step - loss: 14.2636 - mae: 14.7482 - val_loss: 14.3349 - val_mae: 14.8312\n",
            "Epoch 27/50\n",
            "94/94 [==============================] - 21s 221ms/step - loss: 14.3125 - mae: 14.7974 - val_loss: 14.3325 - val_mae: 14.8288\n",
            "Epoch 28/50\n",
            "94/94 [==============================] - 21s 219ms/step - loss: 14.2301 - mae: 14.7156 - val_loss: 14.3256 - val_mae: 14.8221\n",
            "Epoch 29/50\n",
            "94/94 [==============================] - 21s 215ms/step - loss: 14.2779 - mae: 14.7632 - val_loss: 14.3236 - val_mae: 14.8202\n",
            "Epoch 30/50\n",
            "94/94 [==============================] - 19s 202ms/step - loss: 14.2762 - mae: 14.7618 - val_loss: 14.3200 - val_mae: 14.8167\n",
            "Epoch 31/50\n",
            "94/94 [==============================] - 21s 220ms/step - loss: 14.2995 - mae: 14.7858 - val_loss: 14.3206 - val_mae: 14.8173\n",
            "Epoch 32/50\n",
            "94/94 [==============================] - 21s 219ms/step - loss: 14.3211 - mae: 14.8074 - val_loss: 14.3231 - val_mae: 14.8197\n",
            "Epoch 33/50\n",
            "94/94 [==============================] - 19s 202ms/step - loss: 14.2594 - mae: 14.7452 - val_loss: 14.3199 - val_mae: 14.8166\n",
            "Epoch 34/50\n",
            "94/94 [==============================] - 21s 214ms/step - loss: 14.2850 - mae: 14.7715 - val_loss: 14.3197 - val_mae: 14.8165\n",
            "Epoch 35/50\n",
            "94/94 [==============================] - 20s 214ms/step - loss: 14.2997 - mae: 14.7858 - val_loss: 14.3216 - val_mae: 14.8183\n",
            "Epoch 36/50\n",
            "94/94 [==============================] - 21s 218ms/step - loss: 14.3312 - mae: 14.8181 - val_loss: 14.3248 - val_mae: 14.8214\n",
            "Epoch 37/50\n",
            "94/94 [==============================] - 19s 203ms/step - loss: 14.2702 - mae: 14.7567 - val_loss: 14.3240 - val_mae: 14.8206\n",
            "Epoch 38/50\n",
            "94/94 [==============================] - 21s 225ms/step - loss: 14.3309 - mae: 14.8174 - val_loss: 14.3246 - val_mae: 14.8212\n",
            "Epoch 39/50\n",
            "94/94 [==============================] - 20s 213ms/step - loss: 14.3110 - mae: 14.7976 - val_loss: 14.3253 - val_mae: 14.8218\n",
            "Epoch 40/50\n",
            "94/94 [==============================] - 21s 217ms/step - loss: 14.2642 - mae: 14.7511 - val_loss: 14.3231 - val_mae: 14.8198\n",
            "Epoch 41/50\n",
            "94/94 [==============================] - 19s 203ms/step - loss: 14.2169 - mae: 14.7031 - val_loss: 14.3161 - val_mae: 14.8131\n",
            "Epoch 42/50\n",
            "94/94 [==============================] - 21s 225ms/step - loss: 14.2645 - mae: 14.7521 - val_loss: 14.3175 - val_mae: 14.8144\n",
            "Epoch 43/50\n",
            "94/94 [==============================] - 21s 216ms/step - loss: 14.2934 - mae: 14.7802 - val_loss: 14.3166 - val_mae: 14.8135\n",
            "Epoch 44/50\n",
            "94/94 [==============================] - 19s 204ms/step - loss: 14.2953 - mae: 14.7821 - val_loss: 14.3158 - val_mae: 14.8128\n",
            "Epoch 45/50\n",
            "94/94 [==============================] - 21s 221ms/step - loss: 14.3430 - mae: 14.8307 - val_loss: 14.3247 - val_mae: 14.8212\n",
            "Epoch 46/50\n",
            "94/94 [==============================] - 20s 208ms/step - loss: 14.2521 - mae: 14.7387 - val_loss: 14.3238 - val_mae: 14.8204\n",
            "Epoch 47/50\n",
            "94/94 [==============================] - 22s 227ms/step - loss: 14.2515 - mae: 14.7397 - val_loss: 14.3216 - val_mae: 14.8183\n",
            "Epoch 48/50\n",
            "94/94 [==============================] - 23s 247ms/step - loss: 14.2941 - mae: 14.7812 - val_loss: 14.3205 - val_mae: 14.8172\n",
            "Epoch 49/50\n",
            "94/94 [==============================] - 24s 249ms/step - loss: 14.2554 - mae: 14.7429 - val_loss: 14.3176 - val_mae: 14.8145\n",
            "Epoch 50/50\n",
            "94/94 [==============================] - 23s 241ms/step - loss: 14.2785 - mae: 14.7668 - val_loss: 14.3199 - val_mae: 14.8167\n"
          ]
        }
      ]
    }
  ]
}